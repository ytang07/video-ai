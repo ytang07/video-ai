{
 "cells": [
  {
   "cell_type": "code",
   "execution_count": 1,
   "metadata": {},
   "outputs": [],
   "source": [
    "from dotenv import load_dotenv\n",
    "import os\n",
    "\n",
    "load_dotenv()\n",
    "\n",
    "TAVUS_API_KEY = os.environ[\"TAVUS_API_KEY\"]\n",
    "OCTOAI_API_KEY = os.environ[\"OCTOAI_API_KEY\"]"
   ]
  },
  {
   "cell_type": "code",
   "execution_count": 2,
   "metadata": {},
   "outputs": [
    {
     "name": "stdout",
     "output_type": "stream",
     "text": [
      "{\"persona_id\":\"p0b46deb\",\"persona_name\":\"Career Coach\",\"created_at\":\"2024-09-18T20:11:40.582Z\"}\n",
      "\n"
     ]
    }
   ],
   "source": [
    "import requests\n",
    "\n",
    "url = \"https://tavusapi.com/v2/personas\"\n",
    "\n",
    "payload = {\n",
    "    \"persona_name\": \"Career Coach\",\n",
    "    \"system_prompt\": \"As a Career Coach, you are a dedicated professional who specializes in helping software engineers advance their careers from IC to management.\",\n",
    "    \"context\": \"\"\"You spent two years as a software engineer, you did a great job on the technology, then you were promoted to be a senior software engineer. \n",
    "            You spent three years as a senior software engineer. You did a great job not only designing robust systems, but also helping and mentoring more junior engineers.\n",
    "            Your work helping many other engineers got you promoted into a software engineering manager.\"\"\",\n",
    "    \"default_replica_id\": \"r79e1c033f\",\n",
    "    \"layers\": {\n",
    "        \"llm\": {\n",
    "            \"model\": \"meta-llama-3-8b-instruct\",\n",
    "            \"base_url\": \"https://text.octoai.run/v1\",\n",
    "            \"api_key\": OCTOAI_API_KEY,\n",
    "        }\n",
    "    }\n",
    "}\n",
    "headers = {\n",
    "    \"x-api-key\": TAVUS_API_KEY,\n",
    "    \"Content-Type\": \"application/json\"\n",
    "}\n",
    "\n",
    "response = requests.request(\"POST\", url, json=payload, headers=headers)\n",
    "\n",
    "print(response.text)"
   ]
  },
  {
   "cell_type": "code",
   "execution_count": null,
   "metadata": {},
   "outputs": [],
   "source": [
    "conversation_url = \"https://tavusapi.com/v2/conversations\"\n",
    "\n",
    "payload = {\n",
    "    \"replica_id\": \"r79e1c033f\",\n",
    "    \"persona_id\": \"p0b46deb\",\n",
    "    \"conversation_name\": \"Career Coach Test\",\n",
    "    \"conversational_context\": \"You are about to talk to a senior software engineer who just got promoted and is looking to learn about the role and how to excel in it.\",\n",
    "    \"custom_greeting\": \"Hey there Hassaan, long time no see!\",\n",
    "    \"properties\": {\n",
    "        \"max_call_duration\": 3600,\n",
    "        \"participant_left_timeout\": 60,\n",
    "    }\n",
    "}\n",
    "\n",
    "response = requests.request(\"POST\", conversation_url, json=payload, headers=headers)\n",
    "\n",
    "print(response.text)"
   ]
  }
 ],
 "metadata": {
  "kernelspec": {
   "display_name": "Python 3",
   "language": "python",
   "name": "python3"
  },
  "language_info": {
   "codemirror_mode": {
    "name": "ipython",
    "version": 3
   },
   "file_extension": ".py",
   "mimetype": "text/x-python",
   "name": "python",
   "nbconvert_exporter": "python",
   "pygments_lexer": "ipython3",
   "version": "3.10.14"
  }
 },
 "nbformat": 4,
 "nbformat_minor": 2
}
